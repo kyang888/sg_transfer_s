{
 "cells": [
  {
   "cell_type": "code",
   "execution_count": 23,
   "metadata": {},
   "outputs": [],
   "source": [
    "import os\n",
    "import utils\n",
    "from settings import Settings"
   ]
  },
  {
   "cell_type": "code",
   "execution_count": 24,
   "metadata": {},
   "outputs": [],
   "source": [
    "setting = Settings()"
   ]
  },
  {
   "cell_type": "code",
   "execution_count": 45,
   "metadata": {},
   "outputs": [],
   "source": [
    "HELPER_DIR = os.path.join('data', 'helper')\n",
    "CLEAN_DIR = os.path.join('data', 'clean')\n",
    "DATASET_DIR = os.path.join('data', 'dataset')"
   ]
  },
  {
   "cell_type": "code",
   "execution_count": 46,
   "metadata": {},
   "outputs": [
    {
     "name": "stdout",
     "output_type": "stream",
     "text": [
      "loading file data\\clean\\teared_train_factoid_plen50.pkl\n",
      "finished loading data\\clean\\teared_train_factoid_plen50.pkl\n",
      "training data size:  64118\n"
     ]
    }
   ],
   "source": [
    "raw_training_data = utils.pickleLoader(os.path.join(CLEAN_DIR, 'teared_train_factoid_plen50.pkl'))\n",
    "print('training data size: ', len(raw_training_data))"
   ]
  },
  {
   "cell_type": "code",
   "execution_count": 47,
   "metadata": {},
   "outputs": [
    {
     "name": "stdout",
     "output_type": "stream",
     "text": [
      "【answer】\n",
      "北冰洋\n",
      "【passage】\n",
      "passage_text 北冰洋是世界上跨经度最多的大洋.所有经线都相交于南北两极点,北极点在北冰洋,所以北冰洋跨越所有经线,\n",
      "passage_toks ['北冰洋', '是', '世界', '上', '跨', '经度', '最多', '的', '大洋', '.', '所有', '经线', '都', '相交', '于', '南北', '两', '极点', ',', '北极点', '在', '北冰洋', ',', '所以', '北冰洋', '跨越', '所有', '经线', ',']\n",
      "url http://zhidao.baidu.com/question/1669395540371488787\n",
      "【answer_idx】\n",
      "[{'s_idx': 0, 'e_idx': 2}, {'s_idx': 34, 'e_idx': 36}, {'s_idx': 40, 'e_idx': 42}]\n",
      "【query】\n",
      "query_id 11518\n",
      "query_toks ['世界', '上', '跨', '经度', '最多', '的', '大洋', '是', '什么', '?']\n",
      "query_text 世界上跨经度最多的大洋是什么?\n"
     ]
    }
   ],
   "source": [
    "idx = 1\n",
    "for key, data in raw_training_data[idx].items():\n",
    "    print('【%s】' % key)\n",
    "    if type(data).__name__ == 'dict':\n",
    "        for k, d in data.items():\n",
    "            print(k, d)\n",
    "    else: \n",
    "        print(data)"
   ]
  },
  {
   "cell_type": "code",
   "execution_count": 48,
   "metadata": {},
   "outputs": [
    {
     "name": "stdout",
     "output_type": "stream",
     "text": [
      "loading file data\\dataset\\train_raw_plen50.pkl\n",
      "finished loading data\\dataset\\train_raw_plen50.pkl\n",
      "60913\n"
     ]
    }
   ],
   "source": [
    "tokenized_training_data = utils.pickleLoader(os.path.join(DATASET_DIR, 'train_raw_plen50.pkl'))\n",
    "print(len(tokenized_training_data))"
   ]
  },
  {
   "cell_type": "code",
   "execution_count": 55,
   "metadata": {},
   "outputs": [
    {
     "name": "stdout",
     "output_type": "stream",
     "text": [
      "[array([0., 0., 0., 0., 0., 0., 0., 0., 0., 0., 0., 0., 0., 0., 0., 0., 1.,\n",
      "       0., 0., 0., 0., 0., 0., 0., 0., 0., 0., 0., 0., 0., 0., 0., 0., 0.,\n",
      "       0., 0., 0., 0., 0., 0., 0., 0., 0., 0., 0., 0., 0., 0., 0., 0.]), array([0., 0., 0., 0., 0., 0., 0., 0., 0., 0., 0., 0., 0., 0., 0., 0., 0.,\n",
      "       0., 0., 0., 1., 0., 0., 0., 0., 0., 0., 0., 0., 0., 0., 0., 0., 0.,\n",
      "       0., 0., 0., 0., 0., 0., 0., 0., 0., 0., 0., 0., 0., 0., 0., 0.])]\n",
      "{'answer': '回家的诱惑', 'passage': {'passage_text': '中国版的《天使的诱惑》,其名叫《回家的诱惑》', 'passage_toks': ['中国', '版', '的', '《', '天使', '的', '诱惑', '》', ',', '其', '名叫', '《', '回家', '的', '诱惑', '》'], 'url': 'http://wenwen.sogou.com/z/q717235706.htm'}, 'answer_idx': [{'s_idx': 16, 'e_idx': 20}], 'query': {'query_id': 14763, 'query_toks': ['世贤', '是', '什么', '电视剧'], 'query_text': '世贤是什么电视剧'}}\n"
     ]
    }
   ],
   "source": [
    "idx = 12\n",
    "print(tokenized_training_data[idx][0])\n",
    "print(tokenized_training_data[idx][-1])"
   ]
  },
  {
   "cell_type": "code",
   "execution_count": null,
   "metadata": {},
   "outputs": [],
   "source": []
  }
 ],
 "metadata": {
  "kernelspec": {
   "display_name": "Python 3",
   "language": "python",
   "name": "python3"
  },
  "language_info": {
   "codemirror_mode": {
    "name": "ipython",
    "version": 3
   },
   "file_extension": ".py",
   "mimetype": "text/x-python",
   "name": "python",
   "nbconvert_exporter": "python",
   "pygments_lexer": "ipython3",
   "version": "3.5.4"
  }
 },
 "nbformat": 4,
 "nbformat_minor": 2
}
