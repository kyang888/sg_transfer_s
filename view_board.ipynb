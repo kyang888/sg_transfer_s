{
 "cells": [
  {
   "cell_type": "code",
   "execution_count": 1,
   "metadata": {},
   "outputs": [],
   "source": [
    "import utils\n",
    "import os, re\n",
    "import jieba\n",
    "import numpy as np\n",
    "from settings import Settings"
   ]
  },
  {
   "cell_type": "code",
   "execution_count": 2,
   "metadata": {},
   "outputs": [],
   "source": [
    "setting = Settings()"
   ]
  },
  {
   "cell_type": "code",
   "execution_count": 3,
   "metadata": {},
   "outputs": [],
   "source": [
    "clean_dir = os.path.join('data', 'clean')\n",
    "helper_dir = os.path.join('data', 'helper')\n",
    "dataset_dir = os.path.join('data', 'dataset')"
   ]
  },
  {
   "cell_type": "code",
   "execution_count": 28,
   "metadata": {},
   "outputs": [
    {
     "name": "stdout",
     "output_type": "stream",
     "text": [
      "loading file y_pred_start.pkl\n",
      "finished loading y_pred_start.pkl\n",
      "loading file y_pred_end.pkl\n",
      "finished loading y_pred_end.pkl\n",
      "(3205, 50)\n",
      "(3205, 50)\n"
     ]
    }
   ],
   "source": [
    "y_pred_start = utils.pickleLoader('y_pred_start.pkl')\n",
    "y_pred_end = utils.pickleLoader('y_pred_end.pkl')\n",
    "print(np.array(y_pred_start).shape)\n",
    "print(np.array(y_pred_end).shape)"
   ]
  },
  {
   "cell_type": "code",
   "execution_count": 29,
   "metadata": {},
   "outputs": [
    {
     "name": "stdout",
     "output_type": "stream",
     "text": [
      "loading file data\\dataset\\validation_raw_plen50.pkl\n",
      "finished loading data\\dataset\\validation_raw_plen50.pkl\n"
     ]
    }
   ],
   "source": [
    "validation_set_raw = utils.pickleLoader(os.path.join(dataset_dir, 'validation_raw_plen50.pkl'))"
   ]
  },
  {
   "cell_type": "code",
   "execution_count": 23,
   "metadata": {},
   "outputs": [
    {
     "name": "stdout",
     "output_type": "stream",
     "text": [
      "[0. 0. 0. 0. 0. 0. 0. 0. 0. 0. 0. 0. 0. 0. 0. 0. 0. 0. 0. 0. 0. 0. 0. 0.\n",
      " 0. 0. 0. 0. 0. 0. 0. 0. 0. 0. 0. 0. 0. 0. 0. 0. 0. 0. 0. 0. 0. 0. 0. 0.\n",
      " 0. 0.]\n",
      "[0. 0. 0. 0. 0. 0. 0. 0. 0. 0. 0. 0. 0. 0. 0. 0. 0. 0. 0. 0. 0. 0. 0. 0.\n",
      " 0. 0. 0. 0. 0. 0. 0. 0. 0. 0. 0. 0. 0. 0. 0. 0. 0. 0. 0. 0. 0. 0. 0. 0.\n",
      " 0. 0.]\n",
      "{'answer_idx': [], 'query_id': 11613, 'answer': '圆通快递', 'query': '衡水学院快递', 'passage': {'passage_text': '院几号楼,几室,快递员来了会给你打电话,你去学院门口等就可以了,你说的收发室指的是平信快递没这么麻烦', 'url': 'http://zhidao.baidu.com/question/188098287'}}\n"
     ]
    }
   ],
   "source": [
    "idx = 15\n",
    "print(validation_set_raw[idx][0][0])\n",
    "print(validation_set_raw[idx][0][1])\n",
    "print(validation_set_raw[idx][-1])"
   ]
  },
  {
   "cell_type": "code",
   "execution_count": 32,
   "metadata": {},
   "outputs": [],
   "source": [
    "def get_answer_list(db_test, y_pred_start, y_pred_end, caseStudy=False):\n",
    "    def GetAnswer(passage, start, end):\n",
    "        return passage[start:end + 1]\n",
    "    \n",
    "    rankScore = {}\n",
    "    \n",
    "    for idx in range(len(db_test)):\n",
    "        test_details = db_test[idx][-1]\n",
    "        query_id = str(test_details['query']['query_id'])\n",
    "        query = test_details['query']['query_text']\n",
    "        answer = test_details['answer']\n",
    "        passage = test_details['passage']['passage_text']\n",
    "        thisMax = -1\n",
    "        canswer = \"NaN**\"\n",
    "        for i in range(setting.passage_len):\n",
    "            for j in range(i, setting.passage_len):\n",
    "                if j - i > 10:\n",
    "                    break\n",
    "                score = y_pred_start[idx][i] * y_pred_end[idx][j]\n",
    "                if score > thisMax or canswer == \"NaN**\":\n",
    "                    temp = GetAnswer(passage, i, j)\n",
    "                    if temp in query: continue\n",
    "                    thisMax, canswer = score, temp\n",
    "        rankScore[query_id] = rankScore.get(query_id, {'query': query,\n",
    "                                                       'answer': answer,\n",
    "                                                       'answer_rank': []})\n",
    "        rankScore[query_id]['answer_rank'].append({\n",
    "                                                    'score': score,\n",
    "                                                    'answer': canswer,\n",
    "                                                    'passage': passage\n",
    "                                                   })\n",
    "        \n",
    "    for i, j in rankScore.items():\n",
    "        rankScore[i]['answer_rank'] = sorted(j['answer_rank'], key=lambda x: x['score'], reverse=True)\n",
    "        rankScore[i]['pred_ans'] = [item['answer'] for item in rankScore[i]['answer_rank']]\n",
    "    return rankScore"
   ]
  },
  {
   "cell_type": "code",
   "execution_count": 33,
   "metadata": {},
   "outputs": [],
   "source": [
    "rank_score = get_answer_list(validation_set_raw, y_pred_start, y_pred_end)"
   ]
  },
  {
   "cell_type": "code",
   "execution_count": 34,
   "metadata": {},
   "outputs": [],
   "source": [
    "def evaluate(answer_list):\n",
    "    tr = 0\n",
    "    tot = len(answer_list)\n",
    "    for _, item in answer_list.items():\n",
    "        t_answer = item['answer']\n",
    "        ans = item['pred_ans']\n",
    "        if t_answer in ans:\n",
    "            tr += 1\n",
    "            print(t_answer)\n",
    "            print(ans)\n",
    "            print('='*20)\n",
    "    print('tr: ', tr)\n",
    "    print('tr / tot: ', tr / tot)"
   ]
  },
  {
   "cell_type": "code",
   "execution_count": 35,
   "metadata": {},
   "outputs": [
    {
     "name": "stdout",
     "output_type": "stream",
     "text": [
      "聂耳\n",
      "['中华人民共和国国', '克族的但是可以听', '克族的但是可以听', '克族的但是可以听', '克族的但是可以听', '中华', '中华', '阅读(:0:):中', '/zhwiki', '/zhwiki', '首也是中国历', '作曲:', '聂耳']\n",
      "====================\n",
      "美国\n",
      "['计算机诞生于哪个国', '计算机诞生于哪个国', '方要', '方要', '8000多个电子', '8000多个电子', '000多倍,', '000多倍,', '000多倍,', '000多倍,', '是哪', '是哪', '1946', '美国', 'us', 'us']\n",
      "====================\n",
      "丁\n",
      "['谜底.', '时', '时', '怎样', '我猜谜底是', '怎样', '查找', '\"打\"', '丁', '丁', '宁']\n",
      "====================\n",
      "山西省\n",
      "['吕梁虽然也很差', '岚相望;南部与', '岚相望;南部与', '忻州属于山西', '忻州属于山西', '吧:只', '吧:只', '是哪里', '是哪里', '是哪里', '是哪里', '卧龙沟', '山西省', '山西']\n",
      "====================\n",
      "鲁迅\n",
      "['一篇报', '一篇报', '才,浙江绍兴', '才,浙江绍兴', '吃人者的本质:\"狮', '吃人者的本质:\"狮', '《狂人日记》是鲁', '《', '的描写', '会.陈老五', '了一会', '了一会', '鲁迅']\n",
      "====================\n",
      "松下\n",
      "['手机', '上次', '上次', '请问', '-02-10.视', '-02-10.视', 'panasonic灯', '牌子是panas', '是:松', '牌子是', '松下']\n",
      "====================\n",
      "冲\n",
      "['矗驰匪', '矗驰匪', '是\"', '是\"', '字加一笔是', '把\"', '逆推', '逆推', '4', '4', ',论坛', '冲']\n",
      "====================\n",
      "水星\n",
      "['八大行星中最靠近太', '娇小的行星—', '水星', '太阳)水)', '太阳)水)', '太阳)水)', '太阳)水)', '%,重量比地球', '%,重量比地球', '今年', '原来这两']\n",
      "====================\n",
      "湖北省\n",
      "['有关规定,上', '培训相', ':当阳市位于湖', '你好,我是当阳人', '[摘要]:正位', '带.地势西北高,', '带.地势西北高,', '们的', '们的', '玉泉寺位于湖', '生\"', '湖北省']\n",
      "====================\n",
      "春季\n",
      "['好想', '原为', '和暑期', '和暑期', '土巴', '回答:', '回答:', '春季', '春季', '春季', '春夏']\n",
      "====================\n",
      "7周\n",
      "['dn', 'dn', '4千港币,我是去香港妇', '4千港币,我是去香港妇', '年12', ':香', ':香', '这个', '您要', '您要', '7周']\n",
      "====================\n",
      "猴\n",
      "['就像有', '就像有', '你好,答案是', '你好,答案是', '英雄介绍', '英雄介绍', '诸事', '诸事', '猜一生', '猴子', '是鸡', '猴', '兔子']\n",
      "====================\n",
      "刘颖\n",
      "['颖儿的真实姓名是', '自出道以来,颖儿', '自出道以来,颖儿', '以下是blanche', '导读:近日,有网', '我要分享:0:', '据了解,颖儿的', '颖儿的真名', '刘颖', '刘颖']\n",
      "====================\n",
      "冰心\n",
      "['作家:冰', '我国第一位儿童作家——', '浏览', '莹.', '儿童作家秦', '儿童作家秦', '儿童作家秦', '儿童作家秦', '冰心', '冰心']\n",
      "====================\n",
      "瑞典\n",
      "['瑞典著名汽车品', '沃尔', '沃尔', '不过', '沃尔', '于:1962:', '于:1962:', '沃尔沃汽车是', '一个', ':沃尔沃:瑞', '瑞典', '瑞典']\n",
      "====================\n",
      "谭晶\n",
      "['谭晶', '12日播出的最新一期', '12日播出的最新一期', '还真', '还真', '开场曲目《因为爱', '晶结', '晶结', '兄弟', '兄弟', '沙溢携神秘女嘉宾', '《因', '我们', '我们']\n",
      "====================\n",
      "美国\n",
      "['尼本赛特河构成', '尼本赛特河构成', '尼本赛特河构成', '尼本赛特河构成', '会通过,下面简单', '建于1630', '建于1630', '美国!:波', '——亨利', '料,尽', '41-360:路', '波士顿,是', '美国']\n",
      "====================\n",
      "50颗\n",
      "[',美', ',美', '美国自建国以来', '美国自建国以来', '美利坚合众国的', '美国国旗上有多', '美国国旗一共', '50颗小星', '不要', '不要', '50颗']\n",
      "====================\n",
      "德国\n",
      "['华夏收藏网(c', '7:', '7:', '芬妮沈阳国家化学有限', '值1', '值1', '波塞', '乐柔柔女装', '珂玛', '德国19', '德国', '德国']\n",
      "====================\n",
      "广东省\n",
      "['民政', '民政', '_v', '_v', '辖5', '辖5', 'rt~~ 黑龙', '--', '--', '化州市位于广', '化州是', '--', '--', '广东省']\n",
      "====================\n",
      "波斯语\n",
      "['.在', '.在', '方语言', '目前', ',阿', ',阿', '比尔', ' 你玩的好欢', '是201', '是201', '伊朗的官', '波斯语', '9篱']\n",
      "====================\n",
      "江苏省\n",
      "['地理位', '[龙湖大家庭·工程进', '[龙湖大家庭·工程进', '无锡在哪里?无锡是', '无锡省市名牌有哪些品牌', '无锡省市名牌有哪些品牌', '是个国家 无锡是', '是个国家 无锡是', '无锡是江苏省', '不大', '不大', '1,无锡属于哪', '江苏省']\n",
      "====================\n",
      "子时\n",
      "['等动物作代,以为', '等动物作代,以为', '子时', '1:时', '1:时', '年三月', '调制', '晚上:', '晚上11点到凌', '晚上11点到1点是', '精神']\n",
      "====================\n",
      "红灯\n",
      "['头,并打', '2015年闯', '罚款1', '罚款1', '自己要行驶', '会算', '会算', '红灯', '弯会', '弯会', '是连续两天都被记录', '3分']\n",
      "====================\n",
      "4季\n",
      "['va总共多少集出', 'va总共多少集出', '一共四季:完结了123', '出包王女出包王女', '大神', '大神', '更多出包王女1', '较详细', '较详细', '出包王女现', '4季']\n",
      "====================\n",
      "圣罗兰\n",
      "['中', '中', '全球仅几千', '全球仅几千', '全球仅几千', '全球仅几千', 'ysl是什么牌子', ',都', ',都', ',都', ',都', '的时', '的时', 'ysl是法国', 'ysl的全称', '圣罗兰']\n",
      "====================\n",
      "7级\n",
      "[' ', '这个', '这个', ':2014-', ':2014-', '有点', '是中', '钢琴', '钢琴', '7级']\n",
      "====================\n",
      "辽宁省\n",
      "['招生咨询电话:024', '沈阳,简称\"沈', '给中国', '给中国', '然是', '使用', '使用', '沈阳作为省会', '沈阳作为省会', '的人,沈', '的人,沈', '辽宁省', '沈阳是']\n",
      "====================\n",
      "美国\n",
      "[':大切', '至今已具有72年', '是', '是', '牧马', 'eep车是', '目前国内的je', '的由', '你好:', '美国']\n",
      "====================\n",
      "企\n",
      "['高尔', '大忙', '下面是一篇关于', '谜底是:', '谜底是:', '谢绝参观(', '要考查', '又,', '企']\n",
      "====================\n",
      "越南\n",
      "['vietnam这', '38', 'an:', 'an:', '革,着', '越南', ':vi', '财经v', '财经v', '字,', '字,', 'vietnam,', '越南']\n",
      "====================\n",
      "浙江省\n",
      "['南京', '那么,在今年的城市', '杭州一直是有名的', '前昨两日,市委', '这个浙', '浙江省', '浙江', '明明是', '明明是', '明明是']\n",
      "====================\n",
      "宜春\n",
      "['划单', '划单', '划单', '正在加载中:囧,互动百', '樟树是个县级', '中国著', '中国著', '江西省樟', '宜春', '宜春']\n",
      "====================\n",
      "成千上万\n",
      "[':扫二维', '数学', '义]', '10000和', '例]:做假事骗得', '例]:做假事骗得', '广州一', '紫色', '千方', '成千上万', '成千']\n",
      "====================\n",
      "曾静\n",
      "['《二泉吟', '二泉吟》', '二泉吟:董文', '总监和监制,著', '总监和监制,著', '原唱:', '原唱是沈阳的歌', '董文', '董文', '这首歌', '曾静']\n",
      "====================\n",
      "中国\n",
      "['wis属于国', 'wis:,中文名', 'wis:,中文名', 'wis面膜是哪个', 'wis,中文名:', 'wis,中文名:', '中国:wis是一', 'wis面膜是哪个', 'wis来', '中国']\n",
      "====================\n",
      "东芝\n",
      "['ba是什么牌子?', '您的手', '您的手', '也许是个十分新', '也许是个十分新', '脱,吸吧.', '撸主', 'rt', 'toshiba系列产', '误会是国外的', '误会是国外的', '东芝,', '东芝']\n",
      "====================\n",
      "腾讯\n",
      "['设置', '设置', '.', '听朋', '个人觉得应该', '频,图', '频,图', 'ph', 'ph', '不知', '是的,', '腾讯']\n",
      "====================\n",
      "tr:  38\n",
      "tr / tot:  0.15079365079365079\n"
     ]
    }
   ],
   "source": [
    "evaluate(rank_score)"
   ]
  },
  {
   "cell_type": "code",
   "execution_count": 37,
   "metadata": {},
   "outputs": [
    {
     "name": "stdout",
     "output_type": "stream",
     "text": [
      "251\n"
     ]
    }
   ],
   "source": [
    "keys = list(rank_score.keys())\n",
    "print(len(keys))"
   ]
  },
  {
   "cell_type": "code",
   "execution_count": 38,
   "metadata": {},
   "outputs": [
    {
     "name": "stdout",
     "output_type": "stream",
     "text": [
      "{'answer_rank': [{'score': 0.001650687, 'answer': '手游<'}, {'score': 0.0016470924, 'answer': '手游巧思猜灯谜答'}, {'score': 0.0016205538, 'answer': '手游巧思猜灯谜活'}, {'score': 0.0016172873, 'answer': '手游元'}, {'score': 0.0016159853, 'answer': '3>,'}, {'score': 0.0015866966, 'answer': '手游巧思猜灯谜所'}, {'score': 0.0015531802, 'answer': '玩游戏'}, {'score': 0.0015147683, 'answer': '源:齐'}, {'score': 0.0015084198, 'answer': '手游巧思猜灯谜活动'}, {'score': 0.0014134306, 'answer': '西为玩家'}], 'answer': '元宵节', 'pred_ans': ['手游<', '手游巧思猜灯谜答', '手游巧思猜灯谜活', '手游元', '3>,', '手游巧思猜灯谜所', '玩游戏', '源:齐', '手游巧思猜灯谜活动', '西为玩家'], 'query': '梦幻西游手游巧思猜灯谜'}\n"
     ]
    }
   ],
   "source": [
    "print(rank_score[keys[78]])"
   ]
  },
  {
   "cell_type": "code",
   "execution_count": 36,
   "metadata": {},
   "outputs": [],
   "source": [
    "a = {}"
   ]
  },
  {
   "cell_type": "code",
   "execution_count": 37,
   "metadata": {},
   "outputs": [
    {
     "name": "stdout",
     "output_type": "stream",
     "text": [
      "None\n"
     ]
    }
   ],
   "source": [
    "print(a.get('h'))"
   ]
  },
  {
   "cell_type": "code",
   "execution_count": null,
   "metadata": {},
   "outputs": [],
   "source": []
  }
 ],
 "metadata": {
  "kernelspec": {
   "display_name": "Python 3",
   "language": "python",
   "name": "python3"
  },
  "language_info": {
   "codemirror_mode": {
    "name": "ipython",
    "version": 3
   },
   "file_extension": ".py",
   "mimetype": "text/x-python",
   "name": "python",
   "nbconvert_exporter": "python",
   "pygments_lexer": "ipython3",
   "version": "3.5.4"
  }
 },
 "nbformat": 4,
 "nbformat_minor": 2
}
